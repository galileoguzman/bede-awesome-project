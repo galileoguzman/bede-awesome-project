{
 "cells": [
  {
   "cell_type": "code",
   "execution_count": 1,
   "id": "listed-count",
   "metadata": {},
   "outputs": [],
   "source": [
    "TAX = 1.16\n",
    "\n",
    "pricing = [100, 399, 560, 20]\n",
    "\n",
    "\n",
    "def apply_taxes(price):\n",
    "    return price * TAX\n",
    "\n",
    "pricing_with_taxes = list(map(apply_taxes, pricing))"
   ]
  },
  {
   "cell_type": "code",
   "execution_count": 2,
   "id": "occasional-habitat",
   "metadata": {},
   "outputs": [
    {
     "name": "stdout",
     "output_type": "stream",
     "text": [
      "[115.99999999999999, 462.84, 649.5999999999999, 23.2]\n"
     ]
    }
   ],
   "source": [
    "print(pricing_with_taxes)"
   ]
  },
  {
   "cell_type": "code",
   "execution_count": null,
   "id": "urban-requirement",
   "metadata": {},
   "outputs": [],
   "source": []
  }
 ],
 "metadata": {
  "kernelspec": {
   "display_name": "Python 3",
   "language": "python",
   "name": "python3"
  },
  "language_info": {
   "codemirror_mode": {
    "name": "ipython",
    "version": 3
   },
   "file_extension": ".py",
   "mimetype": "text/x-python",
   "name": "python",
   "nbconvert_exporter": "python",
   "pygments_lexer": "ipython3",
   "version": "3.8.3"
  }
 },
 "nbformat": 4,
 "nbformat_minor": 5
}
